{
 "cells": [
  {
   "cell_type": "markdown",
   "id": "58c66318",
   "metadata": {},
   "source": [
    "# Importing libraries"
   ]
  },
  {
   "cell_type": "code",
   "execution_count": 1,
   "id": "0637bdf2",
   "metadata": {},
   "outputs": [],
   "source": [
    "import tensorflow as tf"
   ]
  },
  {
   "cell_type": "code",
   "execution_count": 23,
   "id": "e8c136c2",
   "metadata": {},
   "outputs": [],
   "source": [
    "#for creating and removing a directory (folder), fetching its contents, changing and identifying the current directory"
   ]
  },
  {
   "cell_type": "code",
   "execution_count": 22,
   "id": "0f3b5ff6",
   "metadata": {},
   "outputs": [],
   "source": [
    "import os"
   ]
  },
  {
   "cell_type": "markdown",
   "id": "f0f319b8",
   "metadata": {},
   "source": [
    "# Stored the image path for reading the images"
   ]
  },
  {
   "cell_type": "code",
   "execution_count": 59,
   "id": "98eb0ef6",
   "metadata": {},
   "outputs": [],
   "source": [
    "images_ds=tf.data.Dataset.list_files(\"pepper/*/*\",shuffle=False)"
   ]
  },
  {
   "cell_type": "code",
   "execution_count": 60,
   "id": "fbaa7acb",
   "metadata": {},
   "outputs": [
    {
     "name": "stdout",
     "output_type": "stream",
     "text": [
      "b'pepper\\\\Pepper__bell___Bacterial_spot\\\\0022d6b7-d47c-4ee2-ae9a-392a53f48647___JR_B.Spot 8964.JPG'\n",
      "b'pepper\\\\Pepper__bell___Bacterial_spot\\\\006adb74-934f-448f-a14f-62181742127b___JR_B.Spot 3395.JPG'\n",
      "b'pepper\\\\Pepper__bell___Bacterial_spot\\\\00f2e69a-1e56-412d-8a79-fdce794a17e4___JR_B.Spot 3132.JPG'\n"
     ]
    }
   ],
   "source": [
    "for images in images_ds.take(3):\n",
    "    print(images.numpy())"
   ]
  },
  {
   "cell_type": "markdown",
   "id": "84d8db9f",
   "metadata": {},
   "source": [
    "# Shuffling the images"
   ]
  },
  {
   "cell_type": "code",
   "execution_count": 61,
   "id": "4d10a544",
   "metadata": {},
   "outputs": [],
   "source": [
    "images_ds=images_ds.shuffle(200)"
   ]
  },
  {
   "cell_type": "code",
   "execution_count": 62,
   "id": "65bd2b5d",
   "metadata": {},
   "outputs": [
    {
     "name": "stdout",
     "output_type": "stream",
     "text": [
      "b'pepper\\\\Pepper__bell___Bacterial_spot\\\\11092e1c-9fdc-4405-85b9-a8d7548f12bb___JR_B.Spot 9051.JPG'\n",
      "b'pepper\\\\Pepper__bell___Bacterial_spot\\\\311c06b4-36e7-4fc7-840d-2f3f86d28ea5___JR_B.Spot 3350.JPG'\n",
      "b'pepper\\\\Pepper__bell___Bacterial_spot\\\\284b0fae-ce3c-43e7-acc6-e9a22bd6eb6f___JR_B.Spot 9074.JPG'\n"
     ]
    }
   ],
   "source": [
    "for images in images_ds.take(3):\n",
    "    print(images.numpy())"
   ]
  },
  {
   "cell_type": "code",
   "execution_count": 63,
   "id": "6dd4dbfc",
   "metadata": {},
   "outputs": [],
   "source": [
    "class_names=[\"Pepper__bell___Bacterial_spot\",\"Pepper__bell___healthy\"]"
   ]
  },
  {
   "cell_type": "code",
   "execution_count": 64,
   "id": "f4e1f370",
   "metadata": {},
   "outputs": [
    {
     "data": {
      "text/plain": [
       "1994"
      ]
     },
     "execution_count": 64,
     "metadata": {},
     "output_type": "execute_result"
    }
   ],
   "source": [
    "image_count=len(images_ds)\n",
    "image_count"
   ]
  },
  {
   "cell_type": "markdown",
   "id": "046d201e",
   "metadata": {},
   "source": [
    "# Splitting the dataset"
   ]
  },
  {
   "cell_type": "code",
   "execution_count": 65,
   "id": "41faa492",
   "metadata": {},
   "outputs": [],
   "source": [
    "train_size=int(image_count*0.8)\n",
    "train_ds=images_ds.take(train_size)\n",
    "test_ds=images_ds.skip(train_size)"
   ]
  },
  {
   "cell_type": "code",
   "execution_count": 66,
   "id": "4ccb5966",
   "metadata": {},
   "outputs": [
    {
     "data": {
      "text/plain": [
       "1595"
      ]
     },
     "execution_count": 66,
     "metadata": {},
     "output_type": "execute_result"
    }
   ],
   "source": [
    "len(train_ds)"
   ]
  },
  {
   "cell_type": "code",
   "execution_count": 67,
   "id": "4e14ac1e",
   "metadata": {},
   "outputs": [
    {
     "data": {
      "text/plain": [
       "399"
      ]
     },
     "execution_count": 67,
     "metadata": {},
     "output_type": "execute_result"
    }
   ],
   "source": [
    "len(test_ds)"
   ]
  },
  {
   "cell_type": "markdown",
   "id": "49496f28",
   "metadata": {},
   "source": [
    "# Retrieve the label for image path"
   ]
  },
  {
   "cell_type": "code",
   "execution_count": 68,
   "id": "bf1c1f63",
   "metadata": {},
   "outputs": [],
   "source": [
    "s='pepper\\\\Pepper__bell___Bacterial_spot\\\\0a0dbf1f-1131-496f-b337-169ec6693e6f___NREC_B.Spot 9241.JPG'\n",
    "s=s.split(\"\\\\\")"
   ]
  },
  {
   "cell_type": "code",
   "execution_count": 69,
   "id": "4fcd64f8",
   "metadata": {},
   "outputs": [
    {
     "data": {
      "text/plain": [
       "['pepper',\n",
       " 'Pepper__bell___Bacterial_spot',\n",
       " '0a0dbf1f-1131-496f-b337-169ec6693e6f___NREC_B.Spot 9241.JPG']"
      ]
     },
     "execution_count": 69,
     "metadata": {},
     "output_type": "execute_result"
    }
   ],
   "source": [
    "s"
   ]
  },
  {
   "cell_type": "code",
   "execution_count": 70,
   "id": "243e83f5",
   "metadata": {},
   "outputs": [
    {
     "data": {
      "text/plain": [
       "'Pepper__bell___Bacterial_spot'"
      ]
     },
     "execution_count": 70,
     "metadata": {},
     "output_type": "execute_result"
    }
   ],
   "source": [
    "s[-2]"
   ]
  },
  {
   "cell_type": "code",
   "execution_count": 71,
   "id": "7b0a1e5a",
   "metadata": {},
   "outputs": [],
   "source": [
    "def get_label(file_path):\n",
    "    return tf.strings.split(file_path,os.path.sep)[-2]"
   ]
  },
  {
   "cell_type": "markdown",
   "id": "1e9c38a5",
   "metadata": {},
   "source": [
    "# Reading the data"
   ]
  },
  {
   "cell_type": "code",
   "execution_count": 72,
   "id": "6ab04666",
   "metadata": {},
   "outputs": [],
   "source": [
    "def process_image(file_path):\n",
    "    label=get_label(file_path)\n",
    "    img=tf.io.read_file(file_path)\n",
    "    img=tf.image.decode_jpeg(img)\n",
    "    img=tf.image.resize(img,[128,128])\n",
    "    return img,label"
   ]
  },
  {
   "cell_type": "code",
   "execution_count": 73,
   "id": "012fbb54",
   "metadata": {},
   "outputs": [
    {
     "name": "stdout",
     "output_type": "stream",
     "text": [
      "b'pepper\\\\Pepper__bell___Bacterial_spot\\\\301b41f3-647f-4bd2-9adb-ef98c8b8c238___JR_B.Spot 3399.JPG'\n",
      "b'pepper\\\\Pepper__bell___Bacterial_spot\\\\01940b6d-7dea-4889-a7b8-a35f4e9bba34___NREC_B.Spot 9120.JPG'\n",
      "b'pepper\\\\Pepper__bell___Bacterial_spot\\\\1cb295da-e568-4168-a29c-48ab980f3772___NREC_B.Spot 9250.JPG'\n",
      "b'pepper\\\\Pepper__bell___Bacterial_spot\\\\31add1a3-eab6-4c9c-946f-d85d89297a0e___NREC_B.Spot 1842.JPG'\n"
     ]
    }
   ],
   "source": [
    "for t in train_ds.take(4):\n",
    "    print(t.numpy())"
   ]
  },
  {
   "cell_type": "markdown",
   "id": "643e7442",
   "metadata": {},
   "source": [
    "# map function applies get element function to each elements in training dataset"
   ]
  },
  {
   "cell_type": "code",
   "execution_count": 74,
   "id": "d4871fbc",
   "metadata": {},
   "outputs": [
    {
     "name": "stdout",
     "output_type": "stream",
     "text": [
      "tf.Tensor(b'Pepper__bell___Bacterial_spot', shape=(), dtype=string)\n",
      "tf.Tensor(b'Pepper__bell___Bacterial_spot', shape=(), dtype=string)\n",
      "tf.Tensor(b'Pepper__bell___Bacterial_spot', shape=(), dtype=string)\n",
      "tf.Tensor(b'Pepper__bell___Bacterial_spot', shape=(), dtype=string)\n"
     ]
    }
   ],
   "source": [
    "for label in train_ds.map(get_label).take(4):\n",
    "    print(label)"
   ]
  },
  {
   "cell_type": "code",
   "execution_count": 75,
   "id": "1208fd5b",
   "metadata": {},
   "outputs": [],
   "source": [
    "#x is the image data\n",
    "#y is the labels"
   ]
  },
  {
   "cell_type": "markdown",
   "id": "21247b01",
   "metadata": {},
   "source": [
    "# Printing both x and y"
   ]
  },
  {
   "cell_type": "code",
   "execution_count": 76,
   "id": "4257a8e7",
   "metadata": {},
   "outputs": [
    {
     "name": "stdout",
     "output_type": "stream",
     "text": [
      "Image: tf.Tensor(\n",
      "[[[183.25 164.25 157.25]\n",
      "  [189.75 170.75 163.75]\n",
      "  [221.25 202.75 195.75]\n",
      "  ...\n",
      "  [177.25 160.25 152.25]\n",
      "  [166.75 149.75 141.75]\n",
      "  [171.25 154.25 146.25]]\n",
      "\n",
      " [[175.5  156.5  149.5 ]\n",
      "  [153.   134.   127.  ]\n",
      "  [161.25 142.25 135.25]\n",
      "  ...\n",
      "  [172.   155.   147.  ]\n",
      "  [158.25 141.25 133.25]\n",
      "  [173.5  156.5  148.5 ]]\n",
      "\n",
      " [[164.75 145.75 138.75]\n",
      "  [132.25 113.25 106.25]\n",
      "  [171.   152.   145.  ]\n",
      "  ...\n",
      "  [160.25 143.25 135.25]\n",
      "  [170.   153.   145.  ]\n",
      "  [148.25 131.25 123.25]]\n",
      "\n",
      " ...\n",
      "\n",
      " [[159.   126.   109.  ]\n",
      "  [140.75 107.75  90.75]\n",
      "  [158.   125.   108.  ]\n",
      "  ...\n",
      "  [149.75 123.75 108.75]\n",
      "  [162.5  136.5  121.5 ]\n",
      "  [157.   131.   116.  ]]\n",
      "\n",
      " [[164.25 131.25 114.25]\n",
      "  [164.75 131.75 114.75]\n",
      "  [147.25 114.25  97.25]\n",
      "  ...\n",
      "  [156.75 130.75 115.75]\n",
      "  [152.75 126.75 111.75]\n",
      "  [160.   134.   119.  ]]\n",
      "\n",
      " [[162.   129.   112.  ]\n",
      "  [154.   121.   104.  ]\n",
      "  [154.25 121.25 104.25]\n",
      "  ...\n",
      "  [136.   110.    95.  ]\n",
      "  [154.75 128.75 113.75]\n",
      "  [143.25 117.25 102.25]]], shape=(128, 128, 3), dtype=float32)\n",
      "Label: tf.Tensor(b'Pepper__bell___Bacterial_spot', shape=(), dtype=string)\n"
     ]
    }
   ],
   "source": [
    "for img,label in train_ds.map(process_image).take(1):\n",
    "    print(\"Image:\",img)\n",
    "    print(\"Label:\",label)"
   ]
  },
  {
   "cell_type": "code",
   "execution_count": 77,
   "id": "1e3528e9",
   "metadata": {},
   "outputs": [],
   "source": [
    "train_ds=train_ds.map(process_image)"
   ]
  },
  {
   "cell_type": "markdown",
   "id": "06cbcecd",
   "metadata": {},
   "source": [
    "# Now it is a numpy array and we have to scale it"
   ]
  },
  {
   "cell_type": "code",
   "execution_count": 78,
   "id": "1cb2a53b",
   "metadata": {},
   "outputs": [],
   "source": [
    "def scale(image,label):\n",
    "    return image/255,label"
   ]
  },
  {
   "cell_type": "code",
   "execution_count": 79,
   "id": "e5b21ba3",
   "metadata": {},
   "outputs": [
    {
     "name": "stdout",
     "output_type": "stream",
     "text": [
      "Image: [0.63235295 0.59313726 0.63235295]\n",
      "Label: b'Pepper__bell___Bacterial_spot'\n",
      "Image: [0.672549   0.62941176 0.64509803]\n",
      "Label: b'Pepper__bell___Bacterial_spot'\n",
      "Image: [0.67941177 0.6480392  0.6401961 ]\n",
      "Label: b'Pepper__bell___Bacterial_spot'\n"
     ]
    }
   ],
   "source": [
    "train_ds=train_ds.map(scale)\n",
    "for image,label in train_ds.take(3):\n",
    "    print(\"Image:\",image.numpy()[0][0])\n",
    "    print(\"Label:\",label.numpy())"
   ]
  },
  {
   "cell_type": "code",
   "execution_count": null,
   "id": "7dae7973",
   "metadata": {},
   "outputs": [],
   "source": []
  }
 ],
 "metadata": {
  "kernelspec": {
   "display_name": "Python 3",
   "language": "python",
   "name": "python3"
  },
  "language_info": {
   "codemirror_mode": {
    "name": "ipython",
    "version": 3
   },
   "file_extension": ".py",
   "mimetype": "text/x-python",
   "name": "python",
   "nbconvert_exporter": "python",
   "pygments_lexer": "ipython3",
   "version": "3.8.8"
  }
 },
 "nbformat": 4,
 "nbformat_minor": 5
}
