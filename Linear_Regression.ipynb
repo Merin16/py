{
 "cells": [
  {
   "cell_type": "markdown",
   "id": "9ec5c52f",
   "metadata": {},
   "source": [
    "# Import libraries"
   ]
  },
  {
   "cell_type": "code",
   "execution_count": 1,
   "id": "315b65f7",
   "metadata": {},
   "outputs": [],
   "source": [
    "import numpy as np\n",
    "from sklearn.linear_model import LinearRegression"
   ]
  },
  {
   "cell_type": "markdown",
   "id": "2343e144",
   "metadata": {},
   "source": [
    "# Generating random data"
   ]
  },
  {
   "cell_type": "code",
   "execution_count": 2,
   "id": "d6ac9593",
   "metadata": {},
   "outputs": [],
   "source": [
    "x=np.array([4,6,8,12,14,20]).reshape((-1,1))\n",
    "y=np.array([8,12,18,20,26,30])"
   ]
  },
  {
   "cell_type": "code",
   "execution_count": 3,
   "id": "0ae7d8ad",
   "metadata": {},
   "outputs": [
    {
     "data": {
      "text/plain": [
       "array([[ 4],\n",
       "       [ 6],\n",
       "       [ 8],\n",
       "       [12],\n",
       "       [14],\n",
       "       [20]])"
      ]
     },
     "execution_count": 3,
     "metadata": {},
     "output_type": "execute_result"
    }
   ],
   "source": [
    "x"
   ]
  },
  {
   "cell_type": "code",
   "execution_count": 4,
   "id": "c422af5d",
   "metadata": {},
   "outputs": [
    {
     "data": {
      "text/plain": [
       "array([ 8, 12, 18, 20, 26, 30])"
      ]
     },
     "execution_count": 4,
     "metadata": {},
     "output_type": "execute_result"
    }
   ],
   "source": [
    "y"
   ]
  },
  {
   "cell_type": "markdown",
   "id": "820551f0",
   "metadata": {},
   "source": [
    "# Linear Regression model and fitting on data"
   ]
  },
  {
   "cell_type": "code",
   "execution_count": 5,
   "id": "92dee69d",
   "metadata": {},
   "outputs": [],
   "source": [
    "lin=LinearRegression()"
   ]
  },
  {
   "cell_type": "code",
   "execution_count": 6,
   "id": "58b40b6f",
   "metadata": {},
   "outputs": [],
   "source": [
    "lin=lin.fit(x,y)"
   ]
  },
  {
   "cell_type": "markdown",
   "id": "0b590ec6",
   "metadata": {},
   "source": [
    "# Finding slope and intercept"
   ]
  },
  {
   "cell_type": "code",
   "execution_count": 7,
   "id": "69e66432",
   "metadata": {},
   "outputs": [
    {
     "data": {
      "text/plain": [
       "array([1.36153846])"
      ]
     },
     "execution_count": 7,
     "metadata": {},
     "output_type": "execute_result"
    }
   ],
   "source": [
    "lin.coef_"
   ]
  },
  {
   "cell_type": "code",
   "execution_count": 8,
   "id": "1d46b8b6",
   "metadata": {},
   "outputs": [
    {
     "data": {
      "text/plain": [
       "4.476923076923075"
      ]
     },
     "execution_count": 8,
     "metadata": {},
     "output_type": "execute_result"
    }
   ],
   "source": [
    "lin.intercept_"
   ]
  },
  {
   "cell_type": "code",
   "execution_count": 9,
   "id": "b09af6ef",
   "metadata": {},
   "outputs": [],
   "source": [
    "#y=.1.361*x+4.476"
   ]
  },
  {
   "cell_type": "markdown",
   "id": "496d3d2b",
   "metadata": {},
   "source": [
    "# Predictions"
   ]
  },
  {
   "cell_type": "code",
   "execution_count": 10,
   "id": "d757bd38",
   "metadata": {},
   "outputs": [
    {
     "data": {
      "text/plain": [
       "array([37.15384615, 53.49230769])"
      ]
     },
     "execution_count": 10,
     "metadata": {},
     "output_type": "execute_result"
    }
   ],
   "source": [
    "pred=np.array([24,36]).reshape((-1,1))\n",
    "lin.predict(pred)"
   ]
  },
  {
   "cell_type": "code",
   "execution_count": null,
   "id": "f61c4cae",
   "metadata": {},
   "outputs": [],
   "source": []
  }
 ],
 "metadata": {
  "kernelspec": {
   "display_name": "Python 3",
   "language": "python",
   "name": "python3"
  },
  "language_info": {
   "codemirror_mode": {
    "name": "ipython",
    "version": 3
   },
   "file_extension": ".py",
   "mimetype": "text/x-python",
   "name": "python",
   "nbconvert_exporter": "python",
   "pygments_lexer": "ipython3",
   "version": "3.8.8"
  }
 },
 "nbformat": 4,
 "nbformat_minor": 5
}
