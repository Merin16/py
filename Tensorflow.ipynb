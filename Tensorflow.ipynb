{
 "cells": [
  {
   "cell_type": "markdown",
   "id": "7ef7710d",
   "metadata": {},
   "source": [
    "# Importing libraries"
   ]
  },
  {
   "cell_type": "code",
   "execution_count": 1,
   "id": "538906f0",
   "metadata": {},
   "outputs": [],
   "source": [
    "import tensorflow as tf"
   ]
  },
  {
   "cell_type": "markdown",
   "id": "53e60372",
   "metadata": {},
   "source": [
    "# Creating a simple tensorflow dataset"
   ]
  },
  {
   "cell_type": "code",
   "execution_count": 2,
   "id": "0997f7ff",
   "metadata": {},
   "outputs": [],
   "source": [
    "daily_sales_numbers=[22,31,-90,33,37,-78,108,31]"
   ]
  },
  {
   "cell_type": "markdown",
   "id": "4c30e419",
   "metadata": {},
   "source": [
    "# Building a tf dataset from a python list"
   ]
  },
  {
   "cell_type": "code",
   "execution_count": 3,
   "id": "9aff2103",
   "metadata": {},
   "outputs": [],
   "source": [
    "tf_dataset=tf.data.Dataset.from_tensor_slices(daily_sales_numbers)"
   ]
  },
  {
   "cell_type": "code",
   "execution_count": 4,
   "id": "ce989c9d",
   "metadata": {},
   "outputs": [
    {
     "data": {
      "text/plain": [
       "<TensorSliceDataset element_spec=TensorSpec(shape=(), dtype=tf.int32, name=None)>"
      ]
     },
     "execution_count": 4,
     "metadata": {},
     "output_type": "execute_result"
    }
   ],
   "source": [
    "tf_dataset"
   ]
  },
  {
   "cell_type": "markdown",
   "id": "b2aeb7c8",
   "metadata": {},
   "source": [
    "# To print the contents in dataset"
   ]
  },
  {
   "cell_type": "code",
   "execution_count": 5,
   "id": "349a17df",
   "metadata": {},
   "outputs": [
    {
     "name": "stdout",
     "output_type": "stream",
     "text": [
      "tf.Tensor(22, shape=(), dtype=int32)\n",
      "tf.Tensor(31, shape=(), dtype=int32)\n",
      "tf.Tensor(-90, shape=(), dtype=int32)\n",
      "tf.Tensor(33, shape=(), dtype=int32)\n",
      "tf.Tensor(37, shape=(), dtype=int32)\n",
      "tf.Tensor(-78, shape=(), dtype=int32)\n",
      "tf.Tensor(108, shape=(), dtype=int32)\n",
      "tf.Tensor(31, shape=(), dtype=int32)\n"
     ]
    }
   ],
   "source": [
    "for sales in tf_dataset:\n",
    "    print(sales)"
   ]
  },
  {
   "cell_type": "code",
   "execution_count": 6,
   "id": "c0bd9437",
   "metadata": {},
   "outputs": [],
   "source": [
    "#Each element is a tensor"
   ]
  },
  {
   "cell_type": "markdown",
   "id": "69994cc4",
   "metadata": {},
   "source": [
    "# Converting tensor to numpy"
   ]
  },
  {
   "cell_type": "code",
   "execution_count": 8,
   "id": "f6193ab1",
   "metadata": {},
   "outputs": [
    {
     "name": "stdout",
     "output_type": "stream",
     "text": [
      "22\n",
      "31\n",
      "-90\n",
      "33\n",
      "37\n",
      "-78\n",
      "108\n",
      "31\n"
     ]
    }
   ],
   "source": [
    "for sales in tf_dataset:\n",
    "    print(sales.numpy())"
   ]
  },
  {
   "cell_type": "code",
   "execution_count": 9,
   "id": "481f2a77",
   "metadata": {},
   "outputs": [],
   "source": [
    "#another method for converting tensor to a numpy"
   ]
  },
  {
   "cell_type": "code",
   "execution_count": 10,
   "id": "637ac794",
   "metadata": {},
   "outputs": [
    {
     "name": "stdout",
     "output_type": "stream",
     "text": [
      "22\n",
      "31\n",
      "-90\n",
      "33\n",
      "37\n",
      "-78\n",
      "108\n",
      "31\n"
     ]
    }
   ],
   "source": [
    "for sales in tf_dataset.as_numpy_iterator():\n",
    "    print(sales)"
   ]
  },
  {
   "cell_type": "code",
   "execution_count": 11,
   "id": "5323481b",
   "metadata": {},
   "outputs": [],
   "source": [
    "#for taking first 3 elements"
   ]
  },
  {
   "cell_type": "code",
   "execution_count": 12,
   "id": "8ed67848",
   "metadata": {},
   "outputs": [
    {
     "name": "stdout",
     "output_type": "stream",
     "text": [
      "22\n",
      "31\n",
      "-90\n"
     ]
    }
   ],
   "source": [
    "for sales in tf_dataset.take(3):\n",
    "    print(sales.numpy())"
   ]
  },
  {
   "cell_type": "markdown",
   "id": "4e193a22",
   "metadata": {},
   "source": [
    "# Filtering the dataset"
   ]
  },
  {
   "cell_type": "code",
   "execution_count": 13,
   "id": "aa8e982f",
   "metadata": {},
   "outputs": [],
   "source": [
    "tf_dataset=tf_dataset.filter(lambda x:x>0)"
   ]
  },
  {
   "cell_type": "code",
   "execution_count": 14,
   "id": "43dfde9f",
   "metadata": {},
   "outputs": [
    {
     "name": "stdout",
     "output_type": "stream",
     "text": [
      "22\n",
      "31\n",
      "33\n",
      "37\n",
      "108\n",
      "31\n"
     ]
    }
   ],
   "source": [
    "for sales in tf_dataset:\n",
    "    print(sales.numpy())"
   ]
  },
  {
   "cell_type": "code",
   "execution_count": 15,
   "id": "3d68f7e3",
   "metadata": {},
   "outputs": [],
   "source": [
    "#negatives are gone using filter function"
   ]
  },
  {
   "cell_type": "code",
   "execution_count": 16,
   "id": "f040213f",
   "metadata": {},
   "outputs": [],
   "source": [
    "#These numbers are in us dollars\n",
    "#convert these numbers to indian currency\n",
    "#1 dollar=72 rupees"
   ]
  },
  {
   "cell_type": "markdown",
   "id": "d60b5856",
   "metadata": {},
   "source": [
    "# Transforming elements using map function"
   ]
  },
  {
   "cell_type": "code",
   "execution_count": 17,
   "id": "507b5fb7",
   "metadata": {},
   "outputs": [],
   "source": [
    "tf_dataset=tf_dataset.map(lambda x:x*72)"
   ]
  },
  {
   "cell_type": "code",
   "execution_count": 18,
   "id": "32fb18be",
   "metadata": {},
   "outputs": [
    {
     "name": "stdout",
     "output_type": "stream",
     "text": [
      "1584\n",
      "2232\n",
      "2376\n",
      "2664\n",
      "7776\n",
      "2232\n"
     ]
    }
   ],
   "source": [
    "for sales in tf_dataset:\n",
    "    print(sales.numpy())"
   ]
  },
  {
   "cell_type": "markdown",
   "id": "571a4232",
   "metadata": {},
   "source": [
    "# Shuffle the elements"
   ]
  },
  {
   "cell_type": "code",
   "execution_count": 21,
   "id": "29ff6b32",
   "metadata": {},
   "outputs": [],
   "source": [
    "tf_dataset=tf_dataset.shuffle(2)"
   ]
  },
  {
   "cell_type": "code",
   "execution_count": 22,
   "id": "923248de",
   "metadata": {},
   "outputs": [
    {
     "name": "stdout",
     "output_type": "stream",
     "text": [
      "2232\n",
      "1584\n",
      "2376\n",
      "2664\n",
      "7776\n",
      "2232\n"
     ]
    }
   ],
   "source": [
    "for sales in tf_dataset:\n",
    "    print(sales.numpy())"
   ]
  },
  {
   "cell_type": "markdown",
   "id": "f80e7692",
   "metadata": {},
   "source": [
    "# Creating batches"
   ]
  },
  {
   "cell_type": "code",
   "execution_count": 23,
   "id": "570651b9",
   "metadata": {},
   "outputs": [],
   "source": [
    "tf_dataset=tf_dataset.batch(3)"
   ]
  },
  {
   "cell_type": "code",
   "execution_count": 24,
   "id": "9acb1bf2",
   "metadata": {},
   "outputs": [
    {
     "name": "stdout",
     "output_type": "stream",
     "text": [
      "[1584 2376 2232]\n",
      "[2664 2232 7776]\n"
     ]
    }
   ],
   "source": [
    "for sales in tf_dataset:\n",
    "    print(sales.numpy())"
   ]
  },
  {
   "cell_type": "markdown",
   "id": "f1f38e82",
   "metadata": {},
   "source": [
    "# Writing these codes in one single line"
   ]
  },
  {
   "cell_type": "code",
   "execution_count": 29,
   "id": "e17537ac",
   "metadata": {},
   "outputs": [],
   "source": [
    "tf_dataset=tf.data.Dataset.from_tensor_slices(daily_sales_numbers)\n",
    "tf_dataset=tf_dataset.filter(lambda x:x>0).map(lambda y:y*72).shuffle(2).batch(2)"
   ]
  },
  {
   "cell_type": "code",
   "execution_count": 30,
   "id": "84e4599e",
   "metadata": {},
   "outputs": [
    {
     "name": "stdout",
     "output_type": "stream",
     "text": [
      "[2232 1584]\n",
      "[2664 7776]\n",
      "[2376 2232]\n"
     ]
    }
   ],
   "source": [
    "for sales in tf_dataset:\n",
    "    print(sales.numpy())"
   ]
  },
  {
   "cell_type": "code",
   "execution_count": null,
   "id": "d6e83a1c",
   "metadata": {},
   "outputs": [],
   "source": []
  }
 ],
 "metadata": {
  "kernelspec": {
   "display_name": "Python 3",
   "language": "python",
   "name": "python3"
  },
  "language_info": {
   "codemirror_mode": {
    "name": "ipython",
    "version": 3
   },
   "file_extension": ".py",
   "mimetype": "text/x-python",
   "name": "python",
   "nbconvert_exporter": "python",
   "pygments_lexer": "ipython3",
   "version": "3.8.8"
  }
 },
 "nbformat": 4,
 "nbformat_minor": 5
}
